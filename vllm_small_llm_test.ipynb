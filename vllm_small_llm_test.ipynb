{
  "nbformat": 4,
  "nbformat_minor": 0,
  "metadata": {
    "colab": {
      "provenance": [],
      "gpuType": "T4"
    },
    "kernelspec": {
      "name": "python3",
      "display_name": "Python 3"
    },
    "language_info": {
      "name": "python"
    },
    "accelerator": "GPU"
  },
  "cells": [
    {
      "cell_type": "markdown",
      "source": [
        "# Test the use of vllm\n",
        "*vLLM is a fast and easy-to-use library for LLM inference and serving.*  \n",
        "https://docs.vllm.ai/en/latest/getting_started/quickstart.html  \n",
        "\n",
        "Run from within Google Colab using the runtime set to T4 GPU."
      ],
      "metadata": {
        "id": "3tYW7bhRc4Sa"
      }
    },
    {
      "cell_type": "code",
      "execution_count": null,
      "metadata": {
        "id": "rk2Vc7S2c2w1"
      },
      "outputs": [],
      "source": [
        "!pip install vllm"
      ]
    },
    {
      "cell_type": "code",
      "source": [
        "! python -m vllm.entrypoints.openai.api_server --host 127.0.0.1 --port 8888 --model bigscience/bloomz-560m & npx localtunnel --port 8888"
      ],
      "metadata": {
        "id": "WhhAp8M77mCY"
      },
      "execution_count": null,
      "outputs": []
    },
    {
      "cell_type": "markdown",
      "source": [
        "## Run this command in a separate terminal\n",
        "- This can be run from any machine connected to the internet.\n",
        "- The previous command continues running the vllm server.  \n",
        "\n",
        "- Update the url to match that provided by npx in the output of the previous command.  \n",
        "\n",
        "```\n",
        "curl https://legal-lines-melt.loca.lt/v1/completions -H \"Content-Type: application/json\" -d '{\"model\": \"bigscience/bloomz-560m\",\"prompt\": \"George Washington was\",\"max_tokens\": 7,\"temperature\": 0}'\n",
        "```"
      ],
      "metadata": {
        "id": "9mMN0KhOD4p-"
      }
    }
  ]
}